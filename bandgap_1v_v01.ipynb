{
 "cells": [
  {
   "cell_type": "markdown",
   "metadata": {},
   "source": [
    "# BANDGAP_1v_v01\n",
    "A bandgap in the SKY130 process.  Outputs a 1v reference voltage.\n",
    "\n",
    "## Table of Contents\n",
    "- [Introduction and Setup](#introduction)\n",
    "- [DC Operating Point Test](#dcop_test)\n",
    "- [Setup Appendix](#setup-appendix)\n",
    "\n",
    "## Setup\n",
    "A complete analog and digital open-source IC design environment can be ran inside a Docker \n",
    "devcontainer based on the [iic-osic-tools](https://github.com/iic-jku/iic-osic-tools) image from JKU University.  Then  the repo can be opened in vscode directly using the remote devcontainer extension.\n",
    "This will turn your vscode session into a full analog design environemnt with \n",
    "no additional setup required. It will include all the simulators, schematic editors, layout editors, and \n",
    "software tools necessary for both analog and digital IC design.\n",
    "\n",
    "For more details on the environemnt setup see the [Setup Appendix](#setup-appendix) cell.\n",
    "\n",
    "## Notebook Setup\n",
    "Initializes some imports and paths that will be needed by the rest of the notebooks.\n",
    "\n",
    "<a id='introduction'></a>"
   ]
  },
  {
   "cell_type": "code",
   "execution_count": 1,
   "metadata": {},
   "outputs": [
    {
     "name": "stdout",
     "output_type": "stream",
     "text": [
      "[INFO] Final PATH variable: /foss/tools/bin:/foss/tools/sak/:/usr/local/sbin:/opt/conda/envs/bandgap/bin:/opt/conda/condabin:/foss/tools/xschem/bin:/foss/tools/ngspice/ngspice/bin:/vscode/vscode-server/bin/linux-x64/7f329fe6c66b0f86ae1574c2911b681ad5a45d63/bin/remote-cli:/opt/conda/bin:/usr/local/sbin:/usr/local/bin:/usr/sbin:/usr/bin:/sbin:/bin:/foss/tools/covered/19d30fc/bin:/foss/tools/cvc_rv/df85a63/bin:/foss/tools/fault/080f4be/:/foss/tools/gaw3-xschem/a4bb956/bin:/foss/tools/gds3d/173da0c/bin:/foss/tools/ghdl/v3.0.0/bin:/foss/tools/gtkwave/816166e/bin:/foss/tools/iic-osic/:/foss/tools/irsim/25fe821/bin:/foss/tools/iverilog/0144168/bin:/foss/tools/klayout/44a2aa9/:/foss/tools/magic/5e5879c/bin:/foss/tools/netgen/28a2950/bin:/foss/tools/ngspice/ngspice/bin:/foss/tools/nvc/r1.8.2/bin:/foss/tools/openlane/2023.03/:/foss/tools/openroad/1a1617d/bin:/foss/tools/opensta/489ffac/bin:/foss/tools/padring/b2a64ab/bin:/foss/tools/qflow/b0f76bf/bin:/foss/tools/verilator/v5.008/bin:/foss/tools/xschem/b6a8add/bin:/foss/tools/xyce/Parallel/Release/bin:/foss/tools/yosys/f109fa3/bin\n",
      "[INFO] Final PYTHONPATH variable: /opt/conda/envs/bandgap/lib/python310.zip:/opt/conda/envs/bandgap/lib/python3.10:/opt/conda/envs/bandgap/lib/python3.10/lib-dynload:/opt/conda/envs/bandgap/lib/python3.10/site-packages:/workspaces/prjs/Vlsir/bindings/python:/workspaces/prjs/Vlsir/VlsirTools:/workspaces/prjs/Hdl21:/workspaces/prjs/Hdl21/pdks/Sky130:/foss/tools/ngspyce/154a272/local/lib/python3.10/dist-packages\n"
     ]
    },
    {
     "data": {
      "text/html": [
       "<pre style=\"white-space:pre;overflow-x:auto;line-height:normal;font-family:Menlo,'DejaVu Sans Mono',consolas,'Courier New',monospace\">$PATH = \n",
       "</pre>\n"
      ],
      "text/plain": [
       "$PATH = \n"
      ]
     },
     "metadata": {},
     "output_type": "display_data"
    },
    {
     "data": {
      "text/html": [
       "<pre style=\"white-space:pre;overflow-x:auto;line-height:normal;font-family:Menlo,'DejaVu Sans Mono',consolas,'Courier New',monospace\"><span style=\"font-weight: bold\">[</span>\n",
       "    <span style=\"color: #008000; text-decoration-color: #008000\">'/opt/conda/envs/bandgap/bin'</span>,\n",
       "    <span style=\"color: #008000; text-decoration-color: #008000\">'/opt/conda/condabin'</span>,\n",
       "    <span style=\"color: #008000; text-decoration-color: #008000\">'/foss/tools/xschem/bin'</span>,\n",
       "    <span style=\"color: #008000; text-decoration-color: #008000\">'/foss/tools/ngspice/ngspice/bin'</span>,\n",
       "    <span style=\"color: #008000; text-decoration-color: #008000\">'/vscode/vscode-server/bin/linux-x64/7f329fe6c66b0f86ae1574c2911b681ad5a45d63/bin/remote-cli'</span>,\n",
       "    <span style=\"color: #008000; text-decoration-color: #008000\">'/opt/conda/bin'</span>,\n",
       "    <span style=\"color: #008000; text-decoration-color: #008000\">'/usr/local/sbin'</span>,\n",
       "    <span style=\"color: #008000; text-decoration-color: #008000\">'/usr/local/bin'</span>,\n",
       "    <span style=\"color: #008000; text-decoration-color: #008000\">'/usr/sbin'</span>,\n",
       "    <span style=\"color: #008000; text-decoration-color: #008000\">'/usr/bin'</span>,\n",
       "    <span style=\"color: #008000; text-decoration-color: #008000\">'/sbin'</span>,\n",
       "    <span style=\"color: #008000; text-decoration-color: #008000\">'/bin'</span>\n",
       "<span style=\"font-weight: bold\">]</span>\n",
       "</pre>\n"
      ],
      "text/plain": [
       "\u001b[1m[\u001b[0m\n",
       "    \u001b[32m'/opt/conda/envs/bandgap/bin'\u001b[0m,\n",
       "    \u001b[32m'/opt/conda/condabin'\u001b[0m,\n",
       "    \u001b[32m'/foss/tools/xschem/bin'\u001b[0m,\n",
       "    \u001b[32m'/foss/tools/ngspice/ngspice/bin'\u001b[0m,\n",
       "    \u001b[32m'/vscode/vscode-server/bin/linux-x64/7f329fe6c66b0f86ae1574c2911b681ad5a45d63/bin/remote-cli'\u001b[0m,\n",
       "    \u001b[32m'/opt/conda/bin'\u001b[0m,\n",
       "    \u001b[32m'/usr/local/sbin'\u001b[0m,\n",
       "    \u001b[32m'/usr/local/bin'\u001b[0m,\n",
       "    \u001b[32m'/usr/sbin'\u001b[0m,\n",
       "    \u001b[32m'/usr/bin'\u001b[0m,\n",
       "    \u001b[32m'/sbin'\u001b[0m,\n",
       "    \u001b[32m'/bin'\u001b[0m\n",
       "\u001b[1m]\u001b[0m\n"
      ]
     },
     "metadata": {},
     "output_type": "display_data"
    },
    {
     "data": {
      "text/html": [
       "<pre style=\"white-space:pre;overflow-x:auto;line-height:normal;font-family:Menlo,'DejaVu Sans Mono',consolas,'Courier New',monospace\">WORKSPACE_DIR = <span style=\"color: #800080; text-decoration-color: #800080\">/workspaces/prjs/</span><span style=\"color: #ff00ff; text-decoration-color: #ff00ff\">bandgapReferenceCircuit</span>\n",
       "</pre>\n"
      ],
      "text/plain": [
       "WORKSPACE_DIR = \u001b[35m/workspaces/prjs/\u001b[0m\u001b[95mbandgapReferenceCircuit\u001b[0m\n"
      ]
     },
     "metadata": {},
     "output_type": "display_data"
    },
    {
     "data": {
      "text/html": [
       "<pre style=\"white-space:pre;overflow-x:auto;line-height:normal;font-family:Menlo,'DejaVu Sans Mono',consolas,'Courier New',monospace\">SPICE_ASCIIRAWFILE = <span style=\"color: #008080; text-decoration-color: #008080; font-weight: bold\">1</span>\n",
       "</pre>\n"
      ],
      "text/plain": [
       "SPICE_ASCIIRAWFILE = \u001b[1;36m1\u001b[0m\n"
      ]
     },
     "metadata": {},
     "output_type": "display_data"
    }
   ],
   "source": [
    "! source ~/.bashrc\n",
    "import os\n",
    "from pathlib import Path\n",
    "from rich.jupyter import print\n",
    "import ipytest\n",
    "\n",
    "from viper.simulators.TestSimulator import TestSimulator\n",
    "\n",
    "DEBUG = True\n",
    "BANDGAP_REPO_ROOT = Path(\"/workspaces/prjs/bandgapReferenceCircuit\")\n",
    "TESTS_DIR_PATH = BANDGAP_REPO_ROOT / \"tests\"\n",
    "SCHEMATIC_DIR_PATH = BANDGAP_REPO_ROOT / \"bandgap_sky130_v1\"\n",
    "\n",
    "ipytest.autoconfig()\n",
    "\n",
    "# Check environment setup\n",
    "if not Path(os.environ[\"WORKSPACE_DIR\"]).exists():\n",
    "    raise Exception(\"Workspace directory path needs to be updated in the .env\"\n",
    "                    \" file.\")\n",
    "\n",
    "if DEBUG:\n",
    "    print(\"$PATH = \")\n",
    "    print(os.environ[\"PATH\"].split(\":\"))\n",
    "    WORKSPACE_DIR = os.environ[\"WORKSPACE_DIR\"]\n",
    "    print(f\"WORKSPACE_DIR = {WORKSPACE_DIR}\")\n",
    "    WORKSPACE_DIR = os.environ[\"SPICE_ASCIIRAWFILE\"]\n",
    "    print(f\"SPICE_ASCIIRAWFILE = {WORKSPACE_DIR}\")\n",
    "    if False:\n",
    "        print(\"All ENV VARS:\")\n",
    "        print(os.environ)"
   ]
  },
  {
   "attachments": {},
   "cell_type": "markdown",
   "metadata": {},
   "source": [
    "<a id='dcop_test'></a>\n",
    "\n",
    "# DC Operating Point Test\n",
    "\n",
    "The DC operating point test checks the DC output voltage of the bandgap.\n",
    "\n",
    "It also checks the terminal voltages (Vds, Vgs, Vgd) of each transistor are \n",
    "within the safe operating area. (SOA)  This helps ensure they operate \n",
    "reliably over time.\n",
    "\n",
    "## Run DC Op Simulation"
   ]
  },
  {
   "cell_type": "code",
   "execution_count": 2,
   "metadata": {},
   "outputs": [
    {
     "name": "stdout",
     "output_type": "stream",
     "text": [
      "Netlisting bandgap_1v_v01_dcop_testbench.sch\n",
      "  From schematic path: /workspaces/prjs/bandgapReferenceCircuit/bandgap_sky130_v1/bandgap_1v_v01_dcop_testbench.sch\n",
      "  To netlist file: bandgap_1v_v01_dcop_testbench.spice\n",
      "  To netlist path: /workspaces/prjs/bandgapReferenceCircuit/tests/dc_op/netlist/bandgap_1v_v01_dcop_testbench.spice\n",
      "  Netlisting complete!\n",
      "\n",
      "Simulating bandgap_1v_v01_dcop_testbench.spice at \n",
      "  /workspaces/prjs/bandgapReferenceCircuit/tests/dc_op/netlist/bandgap_1v_v01_dcop_testbench.spice\n",
      "  using ngspice\n",
      "  Simulation completed!\n"
     ]
    },
    {
     "data": {
      "text/html": [
       "<pre style=\"white-space:pre;overflow-x:auto;line-height:normal;font-family:Menlo,'DejaVu Sans Mono',consolas,'Courier New',monospace\">Simulation Result Details:\n",
       "  simulator: ngspice\n",
       "  directory path: <span style=\"color: #800080; text-decoration-color: #800080\">/workspaces/prjs/bandgapReferenceCircuit/tests/dc_op/</span><span style=\"color: #ff00ff; text-decoration-color: #ff00ff\">simulation</span>\n",
       "  output file: bandgap_1v_v01_dcop_testbench.out\n",
       "  raw output file: bandgap_1v_v01_dcop_testbench.raw\n",
       "  SOA log file: bandgap_1v_v01_dcop_testbench.soa.log\n",
       "  sim log file: bandgap_1v_v01_dcop_testbench.sim.log\n",
       "  netlist filepath: \n",
       "<span style=\"color: #800080; text-decoration-color: #800080\">/workspaces/prjs/bandgapReferenceCircuit/tests/dc_op/netlist/</span><span style=\"color: #ff00ff; text-decoration-color: #ff00ff\">bandgap_1v_v01_dcop_testbench.spice</span>\n",
       "\n",
       "</pre>\n"
      ],
      "text/plain": [
       "Simulation Result Details:\n",
       "  simulator: ngspice\n",
       "  directory path: \u001b[35m/workspaces/prjs/bandgapReferenceCircuit/tests/dc_op/\u001b[0m\u001b[95msimulation\u001b[0m\n",
       "  output file: bandgap_1v_v01_dcop_testbench.out\n",
       "  raw output file: bandgap_1v_v01_dcop_testbench.raw\n",
       "  SOA log file: bandgap_1v_v01_dcop_testbench.soa.log\n",
       "  sim log file: bandgap_1v_v01_dcop_testbench.sim.log\n",
       "  netlist filepath: \n",
       "\u001b[35m/workspaces/prjs/bandgapReferenceCircuit/tests/dc_op/netlist/\u001b[0m\u001b[95mbandgap_1v_v01_dcop_testbench.spice\u001b[0m\n",
       "\n"
      ]
     },
     "metadata": {},
     "output_type": "display_data"
    }
   ],
   "source": [
    "\n",
    "test_name = \"dc_op\"\n",
    "test_bench_schematic = \"bandgap_1v_v01_dcop_testbench.sch\"\n",
    "\n",
    "dcop_result = TestSimulator.run(\n",
    "    schematic_filepath=SCHEMATIC_DIR_PATH / test_bench_schematic, \n",
    "    test_dirpath=TESTS_DIR_PATH / test_name,\n",
    "    )\n",
    "print(dcop_result)"
   ]
  },
  {
   "attachments": {},
   "cell_type": "markdown",
   "metadata": {},
   "source": [
    "## Check DC Op Results"
   ]
  },
  {
   "cell_type": "code",
   "execution_count": 3,
   "metadata": {},
   "outputs": [
    {
     "data": {
      "text/html": [
       "<pre style=\"white-space:pre;overflow-x:auto;line-height:normal;font-family:Menlo,'DejaVu Sans Mono',consolas,'Courier New',monospace\">output_filepath: <span style=\"color: #800080; text-decoration-color: #800080\">/workspaces/prjs/bandgapReferenceCircuit/tests/dc_op/simulation/</span><span style=\"color: #ff00ff; text-decoration-color: #ff00ff\">bandgap_1v_v01_dcop_testbench.out</span>\n",
       "</pre>\n"
      ],
      "text/plain": [
       "output_filepath: \u001b[35m/workspaces/prjs/bandgapReferenceCircuit/tests/dc_op/simulation/\u001b[0m\u001b[95mbandgap_1v_v01_dcop_testbench.out\u001b[0m\n"
      ]
     },
     "metadata": {},
     "output_type": "display_data"
    },
    {
     "name": "stdout",
     "output_type": "stream",
     "text": [
      "\u001b[32m.\u001b[0m\u001b[32m                                                                                            [100%]\u001b[0m\n"
     ]
    }
   ],
   "source": [
    "%%ipytest -qq\n",
    "# %load tests/dc_op/test_op_point.py\n",
    "import pytest\n",
    "from pathlib import Path\n",
    "from spyci import spyci\n",
    "from rawread import rawread\n",
    "\n",
    "from viper.testing.PerformanceTest import PerformanceTest\n",
    "from viper.simulators.SimResult import SimResult\n",
    "\n",
    "@pytest.fixture(scope=\"module\")\n",
    "def performance_test(request: pytest.FixtureRequest) -> PerformanceTest:\n",
    "\n",
    "    try:\n",
    "        return PerformanceTest.read_package(request.module.__package__)\n",
    "    except:\n",
    "        return PerformanceTest.read_directory(\n",
    "            \"/workspaces/prjs/bandgapReferenceCircuit/tests/dc_op\"\n",
    "        )\n",
    "\n",
    "@pytest.fixture(scope=\"module\")\n",
    "def sim_result(performance_test: PerformanceTest) -> Path:\n",
    "    return performance_test.sim_result\n",
    "\n",
    "def test_result_complete(sim_result: SimResult):\n",
    "    print(f\"output_filepath: {sim_result.output_filepath}\")\n",
    "    assert sim_result.output_filepath.exists()\n",
    "    assert sim_result.raw_output_filepath.exists()\n",
    "\n",
    "# def test_()\n",
    "\n",
    "#def test_vdsat(dcop_result):\n",
    "    # data = spyci.load_raw(str(dcop_result))\n",
    "    #data = rawread(str(dcop_result))\n",
    "    #assert isinstance(dcop_result, ngspice_result)\n",
    " #   assert 1 < 2\n",
    "    #assert V_bg < 1.05\n",
    "\n",
    "\n",
    "# if __name__ == \"__main__\":\n",
    "#     test_vdsat(Path(\"/workspaces/bandgapReferenceCircuit/tests/dc_op/simulation/tsmc_bandgap_real_op.raw\"))"
   ]
  },
  {
   "attachments": {},
   "cell_type": "markdown",
   "metadata": {},
   "source": [
    "## DC Op Performance\n",
    "Reports the DC operating point performance of the bandgap"
   ]
  },
  {
   "attachments": {},
   "cell_type": "markdown",
   "metadata": {},
   "source": [
    "<a id='setup_appendix'></a>\n",
    "\n",
    "# Setup Appendix\n",
    "This section provides more detail of our EDA setup.\n",
    "\n",
    "### Jupyter setup\n",
    "Our jupyter session requires the .env to include our EDA tools on the $PATH since the .bashrc isn't ran as part of the Jupyter Kernel's environment."
   ]
  }
 ],
 "metadata": {
  "kernelspec": {
   "display_name": "bandgap",
   "language": "python",
   "name": "python3"
  },
  "language_info": {
   "codemirror_mode": {
    "name": "ipython",
    "version": 3
   },
   "file_extension": ".py",
   "mimetype": "text/x-python",
   "name": "python",
   "nbconvert_exporter": "python",
   "pygments_lexer": "ipython3",
   "version": "3.10.10"
  },
  "orig_nbformat": 4
 },
 "nbformat": 4,
 "nbformat_minor": 2
}
