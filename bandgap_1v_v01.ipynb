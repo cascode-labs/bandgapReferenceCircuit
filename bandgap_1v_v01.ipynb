{
 "cells": [
  {
   "attachments": {},
   "cell_type": "markdown",
   "metadata": {},
   "source": [
    "# BANDGAP_1v_v01\n",
    "A bandgap in the SKY130 process.  Outputs a 1v reference voltage.\n",
    "\n",
    "## Table of Contents\n",
    "- [Introduction and Setup](#introduction)\n",
    "- [DC Operating Point Test](#dcop_test)\n",
    "- [Setup Appendix](#setup-appendix)\n",
    "\n",
    "## Setup\n",
    "A complete analog and digital open-source IC design environment can be ran inside a Docker \n",
    "devcontainer based on the [iic-osic-tools](https://github.com/iic-jku/iic-osic-tools) image from JKU University.  Then  the repo can be opened in vscode directly using the remote devcontainer extension.\n",
    "This will turn your vscode session into a full analog design environemnt with \n",
    "no additional setup required. It will include all the simulators, schematic editors, layout editors, and \n",
    "software tools necessary for both analog and digital IC design.\n",
    "\n",
    "For more details on the environemnt setup see the [Setup Appendix](#setup-appendix) cell.\n",
    "\n",
    "## Notebook Setup\n",
    "Initializes some imports and paths that will be needed by the rest of the notebooks.\n",
    "\n",
    "<a id='introduction'></a>"
   ]
  },
  {
   "cell_type": "code",
   "execution_count": 4,
   "metadata": {},
   "outputs": [
    {
     "data": {
      "text/html": [
       "<pre style=\"white-space:pre;overflow-x:auto;line-height:normal;font-family:Menlo,'DejaVu Sans Mono',consolas,'Courier New',monospace\"><span style=\"font-weight: bold\">[</span>\n",
       "    <span style=\"color: #008000; text-decoration-color: #008000\">'/usr/bin'</span>,\n",
       "    <span style=\"color: #008000; text-decoration-color: #008000\">'/home/thomas/.local/bin'</span>,\n",
       "    <span style=\"color: #008000; text-decoration-color: #008000\">'/home/linuxbrew/.linuxbrew/bin'</span>,\n",
       "    <span style=\"color: #008000; text-decoration-color: #008000\">'/home/linuxbrew/.linuxbrew/sbin'</span>,\n",
       "    <span style=\"color: #008000; text-decoration-color: #008000\">'/home/thomas/.local/bin'</span>,\n",
       "    <span style=\"color: #008000; text-decoration-color: #008000\">'/opt/xyce/xyce_serial/bin'</span>,\n",
       "    <span style=\"color: #008000; text-decoration-color: #008000\">'/home/thomas/.nvm/versions/node/v19.2.0/bin'</span>,\n",
       "    <span style=\"color: #008000; text-decoration-color: #008000\">'/usr/local/cuda-12.0/bin'</span>,\n",
       "    <span style=\"color: #008000; text-decoration-color: #008000\">'/home/thomas/.cargo/bin'</span>,\n",
       "    <span style=\"color: #008000; text-decoration-color: #008000\">'/home/linuxbrew/.linuxbrew/bin'</span>,\n",
       "    <span style=\"color: #008000; text-decoration-color: #008000\">'/home/linuxbrew/.linuxbrew/sbin'</span>,\n",
       "    <span style=\"color: #008000; text-decoration-color: #008000\">'/home/thomas/.local/bin'</span>,\n",
       "    <span style=\"color: #008000; text-decoration-color: #008000\">'/usr/local/sbin'</span>,\n",
       "    <span style=\"color: #008000; text-decoration-color: #008000\">'/usr/local/bin'</span>,\n",
       "    <span style=\"color: #008000; text-decoration-color: #008000\">'/usr/sbin'</span>,\n",
       "    <span style=\"color: #008000; text-decoration-color: #008000\">'/usr/bin'</span>,\n",
       "    <span style=\"color: #008000; text-decoration-color: #008000\">'/sbin'</span>,\n",
       "    <span style=\"color: #008000; text-decoration-color: #008000\">'/bin'</span>,\n",
       "    <span style=\"color: #008000; text-decoration-color: #008000\">'/usr/games'</span>,\n",
       "    <span style=\"color: #008000; text-decoration-color: #008000\">'/usr/local/games'</span>,\n",
       "    <span style=\"color: #008000; text-decoration-color: #008000\">'/snap/bin'</span>,\n",
       "    <span style=\"color: #008000; text-decoration-color: #008000\">'/snap/bin'</span>,\n",
       "    <span style=\"color: #008000; text-decoration-color: #008000\">'/usr/local/go/bin'</span>,\n",
       "    <span style=\"color: #008000; text-decoration-color: #008000\">'/usr/local/go/bin'</span>,\n",
       "    <span style=\"color: #008000; text-decoration-color: #008000\">'/foss/tools/xschem/bin'</span>,\n",
       "    <span style=\"color: #008000; text-decoration-color: #008000\">'/foss/tools/ngspice/ngspice/bin'</span>,\n",
       "    <span style=\"color: #008000; text-decoration-color: #008000\">'/home/linuxbrew/.linuxbrew/bin'</span>,\n",
       "    <span style=\"color: #008000; text-decoration-color: #008000\">'/home/linuxbrew/.linuxbrew/sbin'</span>,\n",
       "    <span style=\"color: #008000; text-decoration-color: #008000\">'/home/thomas/.local/bin'</span>,\n",
       "    <span style=\"color: #008000; text-decoration-color: #008000\">'/opt/xyce/xyce_serial/bin'</span>,\n",
       "    <span style=\"color: #008000; text-decoration-color: #008000\">'/home/thomas/.nvm/versions/node/v19.2.0/bin'</span>,\n",
       "    <span style=\"color: #008000; text-decoration-color: #008000\">'/usr/local/cuda-12.0/bin'</span>,\n",
       "    <span style=\"color: #008000; text-decoration-color: #008000\">'/home/thomas/.cargo/bin'</span>,\n",
       "    <span style=\"color: #008000; text-decoration-color: #008000\">'/home/linuxbrew/.linuxbrew/bin'</span>,\n",
       "    <span style=\"color: #008000; text-decoration-color: #008000\">'/home/linuxbrew/.linuxbrew/sbin'</span>,\n",
       "    <span style=\"color: #008000; text-decoration-color: #008000\">'/home/thomas/.local/bin'</span>,\n",
       "    <span style=\"color: #008000; text-decoration-color: #008000\">'/usr/local/sbin'</span>,\n",
       "    <span style=\"color: #008000; text-decoration-color: #008000\">'/usr/local/bin'</span>,\n",
       "    <span style=\"color: #008000; text-decoration-color: #008000\">'/usr/sbin'</span>,\n",
       "    <span style=\"color: #008000; text-decoration-color: #008000\">'/usr/bin'</span>,\n",
       "    <span style=\"color: #008000; text-decoration-color: #008000\">'/sbin'</span>,\n",
       "    <span style=\"color: #008000; text-decoration-color: #008000\">'/bin'</span>,\n",
       "    <span style=\"color: #008000; text-decoration-color: #008000\">'/usr/games'</span>,\n",
       "    <span style=\"color: #008000; text-decoration-color: #008000\">'/usr/local/games'</span>,\n",
       "    <span style=\"color: #008000; text-decoration-color: #008000\">'/snap/bin'</span>,\n",
       "    <span style=\"color: #008000; text-decoration-color: #008000\">'/snap/bin'</span>,\n",
       "    <span style=\"color: #008000; text-decoration-color: #008000\">'/usr/local/go/bin'</span>,\n",
       "    <span style=\"color: #008000; text-decoration-color: #008000\">'/usr/local/go/bin'</span>\n",
       "<span style=\"font-weight: bold\">]</span>\n",
       "</pre>\n"
      ],
      "text/plain": [
       "\u001b[1m[\u001b[0m\n",
       "    \u001b[32m'/usr/bin'\u001b[0m,\n",
       "    \u001b[32m'/home/thomas/.local/bin'\u001b[0m,\n",
       "    \u001b[32m'/home/linuxbrew/.linuxbrew/bin'\u001b[0m,\n",
       "    \u001b[32m'/home/linuxbrew/.linuxbrew/sbin'\u001b[0m,\n",
       "    \u001b[32m'/home/thomas/.local/bin'\u001b[0m,\n",
       "    \u001b[32m'/opt/xyce/xyce_serial/bin'\u001b[0m,\n",
       "    \u001b[32m'/home/thomas/.nvm/versions/node/v19.2.0/bin'\u001b[0m,\n",
       "    \u001b[32m'/usr/local/cuda-12.0/bin'\u001b[0m,\n",
       "    \u001b[32m'/home/thomas/.cargo/bin'\u001b[0m,\n",
       "    \u001b[32m'/home/linuxbrew/.linuxbrew/bin'\u001b[0m,\n",
       "    \u001b[32m'/home/linuxbrew/.linuxbrew/sbin'\u001b[0m,\n",
       "    \u001b[32m'/home/thomas/.local/bin'\u001b[0m,\n",
       "    \u001b[32m'/usr/local/sbin'\u001b[0m,\n",
       "    \u001b[32m'/usr/local/bin'\u001b[0m,\n",
       "    \u001b[32m'/usr/sbin'\u001b[0m,\n",
       "    \u001b[32m'/usr/bin'\u001b[0m,\n",
       "    \u001b[32m'/sbin'\u001b[0m,\n",
       "    \u001b[32m'/bin'\u001b[0m,\n",
       "    \u001b[32m'/usr/games'\u001b[0m,\n",
       "    \u001b[32m'/usr/local/games'\u001b[0m,\n",
       "    \u001b[32m'/snap/bin'\u001b[0m,\n",
       "    \u001b[32m'/snap/bin'\u001b[0m,\n",
       "    \u001b[32m'/usr/local/go/bin'\u001b[0m,\n",
       "    \u001b[32m'/usr/local/go/bin'\u001b[0m,\n",
       "    \u001b[32m'/foss/tools/xschem/bin'\u001b[0m,\n",
       "    \u001b[32m'/foss/tools/ngspice/ngspice/bin'\u001b[0m,\n",
       "    \u001b[32m'/home/linuxbrew/.linuxbrew/bin'\u001b[0m,\n",
       "    \u001b[32m'/home/linuxbrew/.linuxbrew/sbin'\u001b[0m,\n",
       "    \u001b[32m'/home/thomas/.local/bin'\u001b[0m,\n",
       "    \u001b[32m'/opt/xyce/xyce_serial/bin'\u001b[0m,\n",
       "    \u001b[32m'/home/thomas/.nvm/versions/node/v19.2.0/bin'\u001b[0m,\n",
       "    \u001b[32m'/usr/local/cuda-12.0/bin'\u001b[0m,\n",
       "    \u001b[32m'/home/thomas/.cargo/bin'\u001b[0m,\n",
       "    \u001b[32m'/home/linuxbrew/.linuxbrew/bin'\u001b[0m,\n",
       "    \u001b[32m'/home/linuxbrew/.linuxbrew/sbin'\u001b[0m,\n",
       "    \u001b[32m'/home/thomas/.local/bin'\u001b[0m,\n",
       "    \u001b[32m'/usr/local/sbin'\u001b[0m,\n",
       "    \u001b[32m'/usr/local/bin'\u001b[0m,\n",
       "    \u001b[32m'/usr/sbin'\u001b[0m,\n",
       "    \u001b[32m'/usr/bin'\u001b[0m,\n",
       "    \u001b[32m'/sbin'\u001b[0m,\n",
       "    \u001b[32m'/bin'\u001b[0m,\n",
       "    \u001b[32m'/usr/games'\u001b[0m,\n",
       "    \u001b[32m'/usr/local/games'\u001b[0m,\n",
       "    \u001b[32m'/snap/bin'\u001b[0m,\n",
       "    \u001b[32m'/snap/bin'\u001b[0m,\n",
       "    \u001b[32m'/usr/local/go/bin'\u001b[0m,\n",
       "    \u001b[32m'/usr/local/go/bin'\u001b[0m\n",
       "\u001b[1m]\u001b[0m\n"
      ]
     },
     "metadata": {},
     "output_type": "display_data"
    }
   ],
   "source": [
    "! source ~/.bashrc\n",
    "import os\n",
    "from pathlib import Path\n",
    "from rich.jupyter import print\n",
    "from xschem_testbench import xschem_testbench\n",
    "\n",
    "DEBUG = True\n",
    "BANDGAP_REPO_ROOT = Path(\"/workspaces/prjs/bandgapReferenceCircuit\")\n",
    "TESTS_DIR_PATH = BANDGAP_REPO_ROOT / \"tests\"\n",
    "SCHEMATIC_DIR_PATH = BANDGAP_REPO_ROOT / \"bandgap_sky130_v1\"\n",
    "\n",
    "import ipytest\n",
    "ipytest.autoconfig()\n",
    "\n",
    "if DEBUG:\n",
    "    print(os.environ[\"PATH\"].split(\":\"))"
   ]
  },
  {
   "attachments": {},
   "cell_type": "markdown",
   "metadata": {},
   "source": [
    "# DC Operating Point Test\n",
    "<a id='dcop_test'></a>\n",
    "The DC operating point test checks the DC output voltage of the bandgap.\n",
    "\n",
    "It also checks the terminal voltages (Vds, Vgs, Vgd) of each transistor are \n",
    "within the safe operating area. (SOA)  This helps ensure they operate \n",
    "reliably over time.\n",
    "\n",
    "## Run DC Op Simulation"
   ]
  },
  {
   "cell_type": "code",
   "execution_count": 5,
   "metadata": {},
   "outputs": [
    {
     "name": "stdout",
     "output_type": "stream",
     "text": [
      "\n",
      "\n",
      "Netlisting schematic:\n",
      "  FROM: bandgap_sky130_v1/bandgap_1v_v01_dcop_testbench.sch\n",
      "  TO: tests/dc_op/netlist/bandgap_1v_v01_dcop_testbench.spice\n",
      "\n",
      "\n"
     ]
    },
    {
     "ename": "CalledProcessError",
     "evalue": "Command '['xschem', '-q', '-n', '-o', 'tests/dc_op/netlist', '--svg', '--plotfile', 'tests/dc_op/netlist/dc_op.svg', '-l', 'tests/dc_op/netlist/.netlisting.log', '--rcfile', '/foss/pdks/sky130A/libs.tech/xschem/xschemrc', 'bandgap_sky130_v1/bandgap_1v_v01_dcop_testbench.sch']' returned non-zero exit status 1.",
     "output_type": "error",
     "traceback": [
      "\u001b[0;31m---------------------------------------------------------------------------\u001b[0m",
      "\u001b[0;31mCalledProcessError\u001b[0m                        Traceback (most recent call last)",
      "Cell \u001b[0;32mIn[5], line 4\u001b[0m\n\u001b[1;32m      1\u001b[0m test_name \u001b[39m=\u001b[39m \u001b[39m\"\u001b[39m\u001b[39mdc_op\u001b[39m\u001b[39m\"\u001b[39m\n\u001b[1;32m      2\u001b[0m test_bench_schematic \u001b[39m=\u001b[39m \u001b[39m\"\u001b[39m\u001b[39mbandgap_1v_v01_dcop_testbench.sch\u001b[39m\u001b[39m\"\u001b[39m\n\u001b[0;32m----> 4\u001b[0m dcop_result \u001b[39m=\u001b[39m xschem_testbench\u001b[39m.\u001b[39;49mrun(\n\u001b[1;32m      5\u001b[0m     name\u001b[39m=\u001b[39;49mtest_name, \n\u001b[1;32m      6\u001b[0m     schematic_path\u001b[39m=\u001b[39;49mSCHEMATIC_DIR_PATH \u001b[39m/\u001b[39;49m test_bench_schematic, \n\u001b[1;32m      7\u001b[0m     test_path\u001b[39m=\u001b[39;49mTESTS_DIR_PATH \u001b[39m/\u001b[39;49m test_name,\n\u001b[1;32m      8\u001b[0m     )\n",
      "File \u001b[0;32m~/Projects/HW-Design/ieee_comps/bandgapReferenceCircuit/xschem_testbench.py:77\u001b[0m, in \u001b[0;36mxschem_testbench.run\u001b[0;34m(cls, name, schematic_path, test_path)\u001b[0m\n\u001b[1;32m     75\u001b[0m \u001b[39m\"\u001b[39m\u001b[39mNetlists and then simulates a schematic\u001b[39m\u001b[39m\"\u001b[39m\n\u001b[1;32m     76\u001b[0m tb \u001b[39m=\u001b[39m \u001b[39mcls\u001b[39m(name, schematic_path, test_path)\n\u001b[0;32m---> 77\u001b[0m result \u001b[39m=\u001b[39m tb\u001b[39m.\u001b[39;49mrun_schematic()\n\u001b[1;32m     78\u001b[0m result\u001b[39m.\u001b[39mprint_summary()\n",
      "File \u001b[0;32m~/Projects/HW-Design/ieee_comps/bandgapReferenceCircuit/xschem_testbench.py:69\u001b[0m, in \u001b[0;36mxschem_testbench.run_schematic\u001b[0;34m(self)\u001b[0m\n\u001b[1;32m     68\u001b[0m \u001b[39mdef\u001b[39;00m \u001b[39mrun_schematic\u001b[39m(\u001b[39mself\u001b[39m) \u001b[39m-\u001b[39m\u001b[39m>\u001b[39m ngspice_result:\n\u001b[0;32m---> 69\u001b[0m     \u001b[39mself\u001b[39;49m\u001b[39m.\u001b[39;49mnetlist()\n\u001b[1;32m     70\u001b[0m     \u001b[39mreturn\u001b[39;00m \u001b[39mself\u001b[39m\u001b[39m.\u001b[39msimulate()\n",
      "File \u001b[0;32m~/Projects/HW-Design/ieee_comps/bandgapReferenceCircuit/xschem_testbench.py:40\u001b[0m, in \u001b[0;36mxschem_testbench.netlist\u001b[0;34m(self)\u001b[0m\n\u001b[1;32m     37\u001b[0m \u001b[39mself\u001b[39m\u001b[39m.\u001b[39mnetlist_path\u001b[39m.\u001b[39mparent\u001b[39m.\u001b[39mmkdir(parents\u001b[39m=\u001b[39m\u001b[39mTrue\u001b[39;00m,exist_ok\u001b[39m=\u001b[39m\u001b[39mTrue\u001b[39;00m)\n\u001b[1;32m     38\u001b[0m sch_picture_path \u001b[39m=\u001b[39m \u001b[39mself\u001b[39m\u001b[39m.\u001b[39mnetlist_path\u001b[39m.\u001b[39mparent \u001b[39m/\u001b[39m \\\n\u001b[1;32m     39\u001b[0m                    (\u001b[39mself\u001b[39m\u001b[39m.\u001b[39mtest_dirpath\u001b[39m.\u001b[39mstem \u001b[39m+\u001b[39m \u001b[39m\"\u001b[39m\u001b[39m.svg\u001b[39m\u001b[39m\"\u001b[39m)\n\u001b[0;32m---> 40\u001b[0m run_result\u001b[39m=\u001b[39msubprocess\u001b[39m.\u001b[39;49mrun([\u001b[39m\"\u001b[39;49m\u001b[39mxschem\u001b[39;49m\u001b[39m\"\u001b[39;49m, \u001b[39m\"\u001b[39;49m\u001b[39m-q\u001b[39;49m\u001b[39m\"\u001b[39;49m,\n\u001b[1;32m     41\u001b[0m                 \u001b[39m\"\u001b[39;49m\u001b[39m-n\u001b[39;49m\u001b[39m\"\u001b[39;49m, \u001b[39m\"\u001b[39;49m\u001b[39m-o\u001b[39;49m\u001b[39m\"\u001b[39;49m, \u001b[39mstr\u001b[39;49m(\u001b[39mself\u001b[39;49m\u001b[39m.\u001b[39;49mnetlist_path\u001b[39m.\u001b[39;49mparent),\n\u001b[1;32m     42\u001b[0m                 \u001b[39m\"\u001b[39;49m\u001b[39m--svg\u001b[39;49m\u001b[39m\"\u001b[39;49m, \u001b[39m\"\u001b[39;49m\u001b[39m--plotfile\u001b[39;49m\u001b[39m\"\u001b[39;49m, \u001b[39mstr\u001b[39;49m(sch_picture_path),\n\u001b[1;32m     43\u001b[0m                 \u001b[39m\"\u001b[39;49m\u001b[39m-l\u001b[39;49m\u001b[39m\"\u001b[39;49m, \u001b[39mstr\u001b[39;49m(\u001b[39mself\u001b[39;49m\u001b[39m.\u001b[39;49mnetlist_log_path),\n\u001b[1;32m     44\u001b[0m                 \u001b[39m\"\u001b[39;49m\u001b[39m--rcfile\u001b[39;49m\u001b[39m\"\u001b[39;49m, \u001b[39mstr\u001b[39;49m(\u001b[39mself\u001b[39;49m\u001b[39m.\u001b[39;49mxschemrc_path),\n\u001b[1;32m     45\u001b[0m                 \u001b[39mstr\u001b[39;49m(\u001b[39mself\u001b[39;49m\u001b[39m.\u001b[39;49mschematic_path)], \n\u001b[1;32m     46\u001b[0m                capture_output\u001b[39m=\u001b[39;49m\u001b[39mTrue\u001b[39;49;00m, check\u001b[39m=\u001b[39;49m\u001b[39mTrue\u001b[39;49;00m)\n",
      "File \u001b[0;32m/usr/lib/python3.10/subprocess.py:524\u001b[0m, in \u001b[0;36mrun\u001b[0;34m(input, capture_output, timeout, check, *popenargs, **kwargs)\u001b[0m\n\u001b[1;32m    522\u001b[0m     retcode \u001b[39m=\u001b[39m process\u001b[39m.\u001b[39mpoll()\n\u001b[1;32m    523\u001b[0m     \u001b[39mif\u001b[39;00m check \u001b[39mand\u001b[39;00m retcode:\n\u001b[0;32m--> 524\u001b[0m         \u001b[39mraise\u001b[39;00m CalledProcessError(retcode, process\u001b[39m.\u001b[39margs,\n\u001b[1;32m    525\u001b[0m                                  output\u001b[39m=\u001b[39mstdout, stderr\u001b[39m=\u001b[39mstderr)\n\u001b[1;32m    526\u001b[0m \u001b[39mreturn\u001b[39;00m CompletedProcess(process\u001b[39m.\u001b[39margs, retcode, stdout, stderr)\n",
      "\u001b[0;31mCalledProcessError\u001b[0m: Command '['xschem', '-q', '-n', '-o', 'tests/dc_op/netlist', '--svg', '--plotfile', 'tests/dc_op/netlist/dc_op.svg', '-l', 'tests/dc_op/netlist/.netlisting.log', '--rcfile', '/foss/pdks/sky130A/libs.tech/xschem/xschemrc', 'bandgap_sky130_v1/bandgap_1v_v01_dcop_testbench.sch']' returned non-zero exit status 1."
     ]
    }
   ],
   "source": [
    "\n",
    "test_name = \"dc_op\"\n",
    "test_bench_schematic = \"bandgap_1v_v01_dcop_testbench.sch\"\n",
    "\n",
    "dcop_result = xschem_testbench.run(\n",
    "    name=test_name, \n",
    "    schematic_path=SCHEMATIC_DIR_PATH / test_bench_schematic, \n",
    "    test_path=TESTS_DIR_PATH / test_name,\n",
    "    )"
   ]
  },
  {
   "attachments": {},
   "cell_type": "markdown",
   "metadata": {},
   "source": [
    "## Check DC Op Results"
   ]
  },
  {
   "cell_type": "code",
   "execution_count": null,
   "metadata": {},
   "outputs": [],
   "source": [
    "%%ipytest -qq\n",
    "\n",
    "%load tests/dc_op/test_op_point.py"
   ]
  },
  {
   "attachments": {},
   "cell_type": "markdown",
   "metadata": {},
   "source": [
    "## DC Op Performance\n",
    "Reports the DC operating point performance of the bandgap"
   ]
  },
  {
   "attachments": {},
   "cell_type": "markdown",
   "metadata": {},
   "source": [
    "# Transient Simulation\n",
    "\n",
    "This simulation is a time based simulation; the supply, VDD, is ramped up over 5 microseconds. a power on reset pulse is then applied. The circuit then settles into a desired operating point. This simulation performs the test at three temperatures: 0, 27, 70 degrees celcius."
   ]
  },
  {
   "cell_type": "code",
   "execution_count": null,
   "metadata": {},
   "outputs": [],
   "source": [
    "from spyci import spyci as s\n",
    "\n",
    "tran1 = s.load_raw(\"tests/tran/simulation/tsmc_bandgap_real_27degc_vbg.raw\")\n",
    "tran2 = s.load_raw(\"tests/tran/simulation/tsmc_bandgap_real_0degc_vbg.raw\")\n",
    "tran3 = s.load_raw(\"tests/tran/simulation/tsmc_bandgap_real_70degc_vbg.raw\")\n",
    "\n",
    "vbg0 = tran2[\"v(vbg)\"][0]"
   ]
  },
  {
   "attachments": {},
   "cell_type": "markdown",
   "metadata": {},
   "source": [
    "# Setup Appendix\n",
    "<a id='setup_appendix'></a>"
   ]
  }
 ],
 "metadata": {
  "kernelspec": {
   "display_name": "bandgap",
   "language": "python",
   "name": "python3"
  },
  "language_info": {
   "codemirror_mode": {
    "name": "ipython",
    "version": 3
   },
   "file_extension": ".py",
   "mimetype": "text/x-python",
   "name": "python",
   "nbconvert_exporter": "python",
   "pygments_lexer": "ipython3",
   "version": "3.10.6"
  },
  "orig_nbformat": 4
 },
 "nbformat": 4,
 "nbformat_minor": 2
}
