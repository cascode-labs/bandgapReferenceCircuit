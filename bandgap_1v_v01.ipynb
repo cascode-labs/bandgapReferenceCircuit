{
 "cells": [
  {
   "attachments": {},
   "cell_type": "markdown",
   "metadata": {},
   "source": [
    "# BANDGAP_1v_v01\n",
    "A bandgap in the SKY130 process.  Outputs a 1v reference voltage.\n",
    "\n",
    "## Table of Contents\n",
    "- [Introduction and Setup](#introduction)\n",
    "- [DC Operating Point Test](#dcop_test)\n",
    "- [Setup Appendix](#setup-appendix)\n",
    "\n",
    "## Setup\n",
    "A complete analog and digital open-source IC design environment can be ran inside a Docker \n",
    "devcontainer based on the [iic-osic-tools](https://github.com/iic-jku/iic-osic-tools) image from JKU University.  Then  the repo can be opened in vscode directly using the remote devcontainer extension.\n",
    "This will turn your vscode session into a full analog design environemnt with \n",
    "no additional setup required. It will include all the simulators, schematic editors, layout editors, and \n",
    "software tools necessary for both analog and digital IC design.\n",
    "\n",
    "For more details on the environemnt setup see the [Setup Appendix](#setup-appendix) cell.\n",
    "\n",
    "## Notebook Setup\n",
    "Initializes some imports and paths that will be needed by the rest of the notebooks.\n",
    "\n",
    "<a id='introduction'></a>"
   ]
  },
  {
   "cell_type": "code",
   "execution_count": 1,
   "metadata": {},
   "outputs": [
    {
     "name": "stdout",
     "output_type": "stream",
     "text": [
      "[INFO] Final PATH variable: /foss/tools/bin:/foss/tools/sak/:/usr/local/sbin:/opt/conda/envs/bandgap/bin:/opt/conda/condabin:/foss/tools/xschem/bin:/vscode/vscode-server/bin/linux-x64/7f329fe6c66b0f86ae1574c2911b681ad5a45d63/bin/remote-cli:/opt/conda/bin:/usr/local/sbin:/usr/local/bin:/usr/sbin:/usr/bin:/sbin:/bin:/foss/tools/covered/19d30fc/bin:/foss/tools/cvc_rv/df85a63/bin:/foss/tools/fault/080f4be/:/foss/tools/gaw3-xschem/a4bb956/bin:/foss/tools/gds3d/173da0c/bin:/foss/tools/ghdl/v3.0.0/bin:/foss/tools/gtkwave/816166e/bin:/foss/tools/iic-osic/:/foss/tools/irsim/25fe821/bin:/foss/tools/iverilog/0144168/bin:/foss/tools/klayout/44a2aa9/:/foss/tools/magic/5e5879c/bin:/foss/tools/netgen/28a2950/bin:/foss/tools/ngspice/ngspice/bin:/foss/tools/nvc/r1.8.2/bin:/foss/tools/openlane/2023.03/:/foss/tools/openroad/1a1617d/bin:/foss/tools/opensta/489ffac/bin:/foss/tools/padring/b2a64ab/bin:/foss/tools/qflow/b0f76bf/bin:/foss/tools/verilator/v5.008/bin:/foss/tools/xschem/b6a8add/bin:/foss/tools/xyce/Parallel/Release/bin:/foss/tools/yosys/f109fa3/bin\n",
      "[INFO] Final PYTHONPATH variable: /opt/conda/envs/bandgap/lib/python310.zip:/opt/conda/envs/bandgap/lib/python3.10:/opt/conda/envs/bandgap/lib/python3.10/lib-dynload:/opt/conda/envs/bandgap/lib/python3.10/site-packages:/workspaces/prjs/Vlsir/bindings/python:/workspaces/prjs/Vlsir/VlsirTools:/workspaces/prjs/Hdl21:/workspaces/prjs/Hdl21/pdks/Sky130:/foss/tools/ngspyce/154a272/local/lib/python3.10/dist-packages\n"
     ]
    },
    {
     "data": {
      "text/html": [
       "<pre style=\"white-space:pre;overflow-x:auto;line-height:normal;font-family:Menlo,'DejaVu Sans Mono',consolas,'Courier New',monospace\"><span style=\"font-weight: bold\">[</span>\n",
       "    <span style=\"color: #008000; text-decoration-color: #008000\">'/opt/conda/envs/bandgap/bin'</span>,\n",
       "    <span style=\"color: #008000; text-decoration-color: #008000\">'/opt/conda/condabin'</span>,\n",
       "    <span style=\"color: #008000; text-decoration-color: #008000\">'/foss/tools/xschem/bin'</span>,\n",
       "    <span style=\"color: #008000; text-decoration-color: #008000\">'/vscode/vscode-server/bin/linux-x64/7f329fe6c66b0f86ae1574c2911b681ad5a45d63/bin/remote-cli'</span>,\n",
       "    <span style=\"color: #008000; text-decoration-color: #008000\">'/opt/conda/bin'</span>,\n",
       "    <span style=\"color: #008000; text-decoration-color: #008000\">'/usr/local/sbin'</span>,\n",
       "    <span style=\"color: #008000; text-decoration-color: #008000\">'/usr/local/bin'</span>,\n",
       "    <span style=\"color: #008000; text-decoration-color: #008000\">'/usr/sbin'</span>,\n",
       "    <span style=\"color: #008000; text-decoration-color: #008000\">'/usr/bin'</span>,\n",
       "    <span style=\"color: #008000; text-decoration-color: #008000\">'/sbin'</span>,\n",
       "    <span style=\"color: #008000; text-decoration-color: #008000\">'/bin'</span>\n",
       "<span style=\"font-weight: bold\">]</span>\n",
       "</pre>\n"
      ],
      "text/plain": [
       "\u001b[1m[\u001b[0m\n",
       "    \u001b[32m'/opt/conda/envs/bandgap/bin'\u001b[0m,\n",
       "    \u001b[32m'/opt/conda/condabin'\u001b[0m,\n",
       "    \u001b[32m'/foss/tools/xschem/bin'\u001b[0m,\n",
       "    \u001b[32m'/vscode/vscode-server/bin/linux-x64/7f329fe6c66b0f86ae1574c2911b681ad5a45d63/bin/remote-cli'\u001b[0m,\n",
       "    \u001b[32m'/opt/conda/bin'\u001b[0m,\n",
       "    \u001b[32m'/usr/local/sbin'\u001b[0m,\n",
       "    \u001b[32m'/usr/local/bin'\u001b[0m,\n",
       "    \u001b[32m'/usr/sbin'\u001b[0m,\n",
       "    \u001b[32m'/usr/bin'\u001b[0m,\n",
       "    \u001b[32m'/sbin'\u001b[0m,\n",
       "    \u001b[32m'/bin'\u001b[0m\n",
       "\u001b[1m]\u001b[0m\n"
      ]
     },
     "metadata": {},
     "output_type": "display_data"
    }
   ],
   "source": [
    "! source ~/.bashrc\n",
    "import os\n",
    "from pathlib import Path\n",
    "from rich.jupyter import print\n",
    "from xschem_testbench import xschem_testbench\n",
    "\n",
    "DEBUG = True\n",
    "BANDGAP_REPO_ROOT = Path(\"/workspaces/prjs/bandgapReferenceCircuit\")\n",
    "TESTS_DIR_PATH = BANDGAP_REPO_ROOT / \"tests\"\n",
    "SCHEMATIC_DIR_PATH = BANDGAP_REPO_ROOT / \"bandgap_sky130_v1\"\n",
    "\n",
    "import ipytest\n",
    "ipytest.autoconfig()\n",
    "\n",
    "if DEBUG:\n",
    "    print(os.environ[\"PATH\"].split(\":\"))"
   ]
  },
  {
   "attachments": {},
   "cell_type": "markdown",
   "metadata": {},
   "source": [
    "# DC Operating Point Test\n",
    "<a id='dcop_test'></a>\n",
    "The DC operating point test checks the DC output voltage of the bandgap.\n",
    "\n",
    "It also checks the terminal voltages (Vds, Vgs, Vgd) of each transistor are \n",
    "within the safe operating area. (SOA)  This helps ensure they operate \n",
    "reliably over time.\n",
    "\n",
    "## Run DC Op Simulation"
   ]
  },
  {
   "cell_type": "code",
   "execution_count": 9,
   "metadata": {},
   "outputs": [
    {
     "name": "stdout",
     "output_type": "stream",
     "text": [
      "\n",
      "\n",
      "Netlisting schematic:\n",
      "  FROM: /workspaces/prjs/bandgapReferenceCircuit/bandgap_sky130_v1/bandgap_1v_v01_dcop_testbench.sch\n",
      "  TO: /workspaces/prjs/bandgapReferenceCircuit/tests/dc_op/netlist/bandgap_1v_v01_dcop_testbench.spice\n",
      "\n",
      "\n"
     ]
    },
    {
     "ename": "FileNotFoundError",
     "evalue": "[Errno 2] No such file or directory: 'xschem'",
     "output_type": "error",
     "traceback": [
      "\u001b[0;31m---------------------------------------------------------------------------\u001b[0m",
      "\u001b[0;31mFileNotFoundError\u001b[0m                         Traceback (most recent call last)",
      "Cell \u001b[0;32mIn[9], line 4\u001b[0m\n\u001b[1;32m      1\u001b[0m test_name \u001b[39m=\u001b[39m \u001b[39m\"\u001b[39m\u001b[39mdc_op\u001b[39m\u001b[39m\"\u001b[39m\n\u001b[1;32m      2\u001b[0m test_bench_schematic \u001b[39m=\u001b[39m \u001b[39m\"\u001b[39m\u001b[39mbandgap_1v_v01_dcop_testbench.sch\u001b[39m\u001b[39m\"\u001b[39m\n\u001b[0;32m----> 4\u001b[0m dcop_result \u001b[39m=\u001b[39m xschem_testbench\u001b[39m.\u001b[39;49mrun(\n\u001b[1;32m      5\u001b[0m     name\u001b[39m=\u001b[39;49mtest_name, \n\u001b[1;32m      6\u001b[0m     schematic_path\u001b[39m=\u001b[39;49mSCHEMATIC_DIR_PATH \u001b[39m/\u001b[39;49m test_bench_schematic, \n\u001b[1;32m      7\u001b[0m     test_path\u001b[39m=\u001b[39;49mTESTS_DIR_PATH \u001b[39m/\u001b[39;49m test_name,\n\u001b[1;32m      8\u001b[0m     )\n",
      "File \u001b[0;32m/workspaces/prjs/bandgapReferenceCircuit/xschem_testbench.py:77\u001b[0m, in \u001b[0;36mxschem_testbench.run\u001b[0;34m(cls, name, schematic_path, test_path)\u001b[0m\n\u001b[1;32m     75\u001b[0m \u001b[39m\"\u001b[39m\u001b[39mNetlists and then simulates a schematic\u001b[39m\u001b[39m\"\u001b[39m\n\u001b[1;32m     76\u001b[0m tb \u001b[39m=\u001b[39m \u001b[39mcls\u001b[39m(name, schematic_path, test_path)\n\u001b[0;32m---> 77\u001b[0m result \u001b[39m=\u001b[39m tb\u001b[39m.\u001b[39;49mrun_schematic()\n\u001b[1;32m     78\u001b[0m result\u001b[39m.\u001b[39mprint_summary()\n",
      "File \u001b[0;32m/workspaces/prjs/bandgapReferenceCircuit/xschem_testbench.py:69\u001b[0m, in \u001b[0;36mxschem_testbench.run_schematic\u001b[0;34m(self)\u001b[0m\n\u001b[1;32m     68\u001b[0m \u001b[39mdef\u001b[39;00m \u001b[39mrun_schematic\u001b[39m(\u001b[39mself\u001b[39m) \u001b[39m-\u001b[39m\u001b[39m>\u001b[39m ngspice_result:\n\u001b[0;32m---> 69\u001b[0m     \u001b[39mself\u001b[39;49m\u001b[39m.\u001b[39;49mnetlist()\n\u001b[1;32m     70\u001b[0m     \u001b[39mreturn\u001b[39;00m \u001b[39mself\u001b[39m\u001b[39m.\u001b[39msimulate()\n",
      "File \u001b[0;32m/workspaces/prjs/bandgapReferenceCircuit/xschem_testbench.py:40\u001b[0m, in \u001b[0;36mxschem_testbench.netlist\u001b[0;34m(self)\u001b[0m\n\u001b[1;32m     37\u001b[0m \u001b[39mself\u001b[39m\u001b[39m.\u001b[39mnetlist_path\u001b[39m.\u001b[39mparent\u001b[39m.\u001b[39mmkdir(parents\u001b[39m=\u001b[39m\u001b[39mTrue\u001b[39;00m,exist_ok\u001b[39m=\u001b[39m\u001b[39mTrue\u001b[39;00m)\n\u001b[1;32m     38\u001b[0m sch_picture_path \u001b[39m=\u001b[39m \u001b[39mself\u001b[39m\u001b[39m.\u001b[39mnetlist_path\u001b[39m.\u001b[39mparent \u001b[39m/\u001b[39m \\\n\u001b[1;32m     39\u001b[0m                    (\u001b[39mself\u001b[39m\u001b[39m.\u001b[39mtest_dirpath\u001b[39m.\u001b[39mstem \u001b[39m+\u001b[39m \u001b[39m\"\u001b[39m\u001b[39m.svg\u001b[39m\u001b[39m\"\u001b[39m)\n\u001b[0;32m---> 40\u001b[0m run_result\u001b[39m=\u001b[39msubprocess\u001b[39m.\u001b[39;49mrun([\u001b[39m\"\u001b[39;49m\u001b[39mxschem\u001b[39;49m\u001b[39m\"\u001b[39;49m, \u001b[39m\"\u001b[39;49m\u001b[39m-q\u001b[39;49m\u001b[39m\"\u001b[39;49m,\n\u001b[1;32m     41\u001b[0m                 \u001b[39m\"\u001b[39;49m\u001b[39m-n\u001b[39;49m\u001b[39m\"\u001b[39;49m, \u001b[39m\"\u001b[39;49m\u001b[39m-o\u001b[39;49m\u001b[39m\"\u001b[39;49m, \u001b[39mstr\u001b[39;49m(\u001b[39mself\u001b[39;49m\u001b[39m.\u001b[39;49mnetlist_path\u001b[39m.\u001b[39;49mparent),\n\u001b[1;32m     42\u001b[0m                 \u001b[39m\"\u001b[39;49m\u001b[39m--svg\u001b[39;49m\u001b[39m\"\u001b[39;49m, \u001b[39m\"\u001b[39;49m\u001b[39m--plotfile\u001b[39;49m\u001b[39m\"\u001b[39;49m, \u001b[39mstr\u001b[39;49m(sch_picture_path),\n\u001b[1;32m     43\u001b[0m                 \u001b[39m\"\u001b[39;49m\u001b[39m-l\u001b[39;49m\u001b[39m\"\u001b[39;49m, \u001b[39mstr\u001b[39;49m(\u001b[39mself\u001b[39;49m\u001b[39m.\u001b[39;49mnetlist_log_path),\n\u001b[1;32m     44\u001b[0m                 \u001b[39m\"\u001b[39;49m\u001b[39m--rcfile\u001b[39;49m\u001b[39m\"\u001b[39;49m, \u001b[39mstr\u001b[39;49m(\u001b[39mself\u001b[39;49m\u001b[39m.\u001b[39;49mxschemrc_path),\n\u001b[1;32m     45\u001b[0m                 \u001b[39mstr\u001b[39;49m(\u001b[39mself\u001b[39;49m\u001b[39m.\u001b[39;49mschematic_path)], \n\u001b[1;32m     46\u001b[0m                capture_output\u001b[39m=\u001b[39;49m\u001b[39mTrue\u001b[39;49;00m, check\u001b[39m=\u001b[39;49m\u001b[39mTrue\u001b[39;49;00m)\n",
      "File \u001b[0;32m/opt/conda/envs/bandgap/lib/python3.10/subprocess.py:503\u001b[0m, in \u001b[0;36mrun\u001b[0;34m(input, capture_output, timeout, check, *popenargs, **kwargs)\u001b[0m\n\u001b[1;32m    500\u001b[0m     kwargs[\u001b[39m'\u001b[39m\u001b[39mstdout\u001b[39m\u001b[39m'\u001b[39m] \u001b[39m=\u001b[39m PIPE\n\u001b[1;32m    501\u001b[0m     kwargs[\u001b[39m'\u001b[39m\u001b[39mstderr\u001b[39m\u001b[39m'\u001b[39m] \u001b[39m=\u001b[39m PIPE\n\u001b[0;32m--> 503\u001b[0m \u001b[39mwith\u001b[39;00m Popen(\u001b[39m*\u001b[39;49mpopenargs, \u001b[39m*\u001b[39;49m\u001b[39m*\u001b[39;49mkwargs) \u001b[39mas\u001b[39;00m process:\n\u001b[1;32m    504\u001b[0m     \u001b[39mtry\u001b[39;00m:\n\u001b[1;32m    505\u001b[0m         stdout, stderr \u001b[39m=\u001b[39m process\u001b[39m.\u001b[39mcommunicate(\u001b[39minput\u001b[39m, timeout\u001b[39m=\u001b[39mtimeout)\n",
      "File \u001b[0;32m/opt/conda/envs/bandgap/lib/python3.10/subprocess.py:971\u001b[0m, in \u001b[0;36mPopen.__init__\u001b[0;34m(self, args, bufsize, executable, stdin, stdout, stderr, preexec_fn, close_fds, shell, cwd, env, universal_newlines, startupinfo, creationflags, restore_signals, start_new_session, pass_fds, user, group, extra_groups, encoding, errors, text, umask, pipesize)\u001b[0m\n\u001b[1;32m    967\u001b[0m         \u001b[39mif\u001b[39;00m \u001b[39mself\u001b[39m\u001b[39m.\u001b[39mtext_mode:\n\u001b[1;32m    968\u001b[0m             \u001b[39mself\u001b[39m\u001b[39m.\u001b[39mstderr \u001b[39m=\u001b[39m io\u001b[39m.\u001b[39mTextIOWrapper(\u001b[39mself\u001b[39m\u001b[39m.\u001b[39mstderr,\n\u001b[1;32m    969\u001b[0m                     encoding\u001b[39m=\u001b[39mencoding, errors\u001b[39m=\u001b[39merrors)\n\u001b[0;32m--> 971\u001b[0m     \u001b[39mself\u001b[39;49m\u001b[39m.\u001b[39;49m_execute_child(args, executable, preexec_fn, close_fds,\n\u001b[1;32m    972\u001b[0m                         pass_fds, cwd, env,\n\u001b[1;32m    973\u001b[0m                         startupinfo, creationflags, shell,\n\u001b[1;32m    974\u001b[0m                         p2cread, p2cwrite,\n\u001b[1;32m    975\u001b[0m                         c2pread, c2pwrite,\n\u001b[1;32m    976\u001b[0m                         errread, errwrite,\n\u001b[1;32m    977\u001b[0m                         restore_signals,\n\u001b[1;32m    978\u001b[0m                         gid, gids, uid, umask,\n\u001b[1;32m    979\u001b[0m                         start_new_session)\n\u001b[1;32m    980\u001b[0m \u001b[39mexcept\u001b[39;00m:\n\u001b[1;32m    981\u001b[0m     \u001b[39m# Cleanup if the child failed starting.\u001b[39;00m\n\u001b[1;32m    982\u001b[0m     \u001b[39mfor\u001b[39;00m f \u001b[39min\u001b[39;00m \u001b[39mfilter\u001b[39m(\u001b[39mNone\u001b[39;00m, (\u001b[39mself\u001b[39m\u001b[39m.\u001b[39mstdin, \u001b[39mself\u001b[39m\u001b[39m.\u001b[39mstdout, \u001b[39mself\u001b[39m\u001b[39m.\u001b[39mstderr)):\n",
      "File \u001b[0;32m/opt/conda/envs/bandgap/lib/python3.10/subprocess.py:1847\u001b[0m, in \u001b[0;36mPopen._execute_child\u001b[0;34m(self, args, executable, preexec_fn, close_fds, pass_fds, cwd, env, startupinfo, creationflags, shell, p2cread, p2cwrite, c2pread, c2pwrite, errread, errwrite, restore_signals, gid, gids, uid, umask, start_new_session)\u001b[0m\n\u001b[1;32m   1845\u001b[0m     \u001b[39mif\u001b[39;00m errno_num \u001b[39m!=\u001b[39m \u001b[39m0\u001b[39m:\n\u001b[1;32m   1846\u001b[0m         err_msg \u001b[39m=\u001b[39m os\u001b[39m.\u001b[39mstrerror(errno_num)\n\u001b[0;32m-> 1847\u001b[0m     \u001b[39mraise\u001b[39;00m child_exception_type(errno_num, err_msg, err_filename)\n\u001b[1;32m   1848\u001b[0m \u001b[39mraise\u001b[39;00m child_exception_type(err_msg)\n",
      "\u001b[0;31mFileNotFoundError\u001b[0m: [Errno 2] No such file or directory: 'xschem'"
     ]
    }
   ],
   "source": [
    "\n",
    "test_name = \"dc_op\"\n",
    "test_bench_schematic = \"bandgap_1v_v01_dcop_testbench.sch\"\n",
    "\n",
    "dcop_result = xschem_testbench.run(\n",
    "    name=test_name, \n",
    "    schematic_path=SCHEMATIC_DIR_PATH / test_bench_schematic, \n",
    "    test_path=TESTS_DIR_PATH / test_name,\n",
    "    )"
   ]
  },
  {
   "attachments": {},
   "cell_type": "markdown",
   "metadata": {},
   "source": [
    "## Check DC Op Results"
   ]
  },
  {
   "cell_type": "code",
   "execution_count": null,
   "metadata": {},
   "outputs": [],
   "source": [
    "%%ipytest -qq\n",
    "\n",
    "%load tests/dc_op/test_op_point.py"
   ]
  },
  {
   "attachments": {},
   "cell_type": "markdown",
   "metadata": {},
   "source": [
    "## DC Op Performance\n",
    "Reports the DC operating point performance of the bandgap"
   ]
  },
  {
   "attachments": {},
   "cell_type": "markdown",
   "metadata": {},
   "source": [
    "# Setup Appendix\n",
    "<a id='setup_appendix'></a>"
   ]
  }
 ],
 "metadata": {
  "kernelspec": {
   "display_name": "bandgap",
   "language": "python",
   "name": "python3"
  },
  "language_info": {
   "codemirror_mode": {
    "name": "ipython",
    "version": 3
   },
   "file_extension": ".py",
   "mimetype": "text/x-python",
   "name": "python",
   "nbconvert_exporter": "python",
   "pygments_lexer": "ipython3",
   "version": "3.10.10"
  },
  "orig_nbformat": 4
 },
 "nbformat": 4,
 "nbformat_minor": 2
}
