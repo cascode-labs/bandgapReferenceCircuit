{
 "cells": [
  {
   "attachments": {},
   "cell_type": "markdown",
   "metadata": {},
   "source": [
    "# BANDGAP_1v_v01\n",
    "A bandgap in the SKY130 process.  Outputs a 1v reference voltage.\n",
    "\n",
    "## Table of Contents\n",
    "- [Introduction and Setup](#introduction)\n",
    "- [DC Operating Point Test](#dcop_test)\n",
    "- [Setup Appendix](#setup-appendix)\n",
    "\n",
    "## Setup\n",
    "A complete analog and digital open-source IC design environment can be ran inside a Docker \n",
    "devcontainer based on the [iic-osic-tools](https://github.com/iic-jku/iic-osic-tools) image from JKU University.  Then  the repo can be opened in vscode directly using the remote devcontainer extension.\n",
    "This will turn your vscode session into a full analog design environemnt with \n",
    "no additional setup required. It will include all the simulators, schematic editors, layout editors, and \n",
    "software tools necessary for both analog and digital IC design.\n",
    "\n",
    "For more details on the environemnt setup see the [Setup Appendix](#setup-appendix) cell.\n",
    "\n",
    "## Notebook Setup\n",
    "Initializes some imports and paths that will be needed by the rest of the notebooks.\n",
    "\n",
    "<a id='introduction'></a>"
   ]
  },
  {
   "cell_type": "code",
   "execution_count": 1,
   "metadata": {},
   "outputs": [],
   "source": [
    "from pathlib import Path\n",
    "from xschem_testbench import xschem_testbench\n",
    "\n",
    "BANDGAP_REPO_ROOT = Path(\"/workspaces/prjs/bandgapReferenceCircuit\")\n",
    "TESTS_DIR_PATH = BANDGAP_REPO_ROOT / \"tests\"\n",
    "SCHEMATIC_DIR_PATH = BANDGAP_REPO_ROOT / \"bandgap_sky130_v1\"\n",
    "\n",
    "import ipytest\n",
    "ipytest.autoconfig()"
   ]
  },
  {
   "attachments": {},
   "cell_type": "markdown",
   "metadata": {},
   "source": [
    "# DC Operating Point Test\n",
    "<a id='dcop_test'></a>\n",
    "The DC operating point test checks the DC output voltage of the bandgap.\n",
    "\n",
    "It also checks the terminal voltages (Vds, Vgs, Vgd) of each transistor are \n",
    "within the safe operating area. (SOA)  This helps ensure they operate \n",
    "reliably over time.\n",
    "\n",
    "## Run DC Op Simulation"
   ]
  },
  {
   "cell_type": "code",
   "execution_count": 2,
   "metadata": {},
   "outputs": [
    {
     "ename": "RuntimeError",
     "evalue": "Testbench schematic does not exist at:\n  /workspaces/bandgapReferenceCircuit/bandgap_sky130_v1/bandgap_1v_v01_dcop_testbench.sch",
     "output_type": "error",
     "traceback": [
      "\u001b[0;31m---------------------------------------------------------------------------\u001b[0m",
      "\u001b[0;31mRuntimeError\u001b[0m                              Traceback (most recent call last)",
      "Cell \u001b[0;32mIn[2], line 4\u001b[0m\n\u001b[1;32m      1\u001b[0m test_name \u001b[39m=\u001b[39m \u001b[39m\"\u001b[39m\u001b[39mdc_op\u001b[39m\u001b[39m\"\u001b[39m\n\u001b[1;32m      2\u001b[0m test_bench_schematic \u001b[39m=\u001b[39m \u001b[39m\"\u001b[39m\u001b[39mbandgap_1v_v01_dcop_testbench.sch\u001b[39m\u001b[39m\"\u001b[39m\n\u001b[0;32m----> 4\u001b[0m dcop_result \u001b[39m=\u001b[39m xschem_testbench\u001b[39m.\u001b[39;49mrun(\n\u001b[1;32m      5\u001b[0m     name\u001b[39m=\u001b[39;49mtest_name, \n\u001b[1;32m      6\u001b[0m     schematic_path\u001b[39m=\u001b[39;49mSCHEMATIC_DIR_PATH \u001b[39m/\u001b[39;49m test_bench_schematic, \n\u001b[1;32m      7\u001b[0m     test_path\u001b[39m=\u001b[39;49mTESTS_DIR_PATH \u001b[39m/\u001b[39;49m test_name,\n\u001b[1;32m      8\u001b[0m     )\n",
      "File \u001b[0;32m/workspaces/prjs/bandgapReferenceCircuit/xschem_testbench.py:73\u001b[0m, in \u001b[0;36mxschem_testbench.run\u001b[0;34m(cls, name, schematic_path, test_path)\u001b[0m\n\u001b[1;32m     69\u001b[0m \u001b[39m@classmethod\u001b[39m\n\u001b[1;32m     70\u001b[0m \u001b[39mdef\u001b[39;00m \u001b[39mrun\u001b[39m(\u001b[39mcls\u001b[39m, name: \u001b[39mstr\u001b[39m, schematic_path: Union[Path, \u001b[39mstr\u001b[39m],\n\u001b[1;32m     71\u001b[0m         test_path: Union[Path, \u001b[39mstr\u001b[39m]):\n\u001b[1;32m     72\u001b[0m     \u001b[39m\"\u001b[39m\u001b[39mNetlists and then simulates a schematic\u001b[39m\u001b[39m\"\u001b[39m\n\u001b[0;32m---> 73\u001b[0m     tb \u001b[39m=\u001b[39m \u001b[39mcls\u001b[39;49m(name, schematic_path, test_path)\n\u001b[1;32m     74\u001b[0m     result \u001b[39m=\u001b[39m tb\u001b[39m.\u001b[39mrun_schematic()\n\u001b[1;32m     75\u001b[0m     result\u001b[39m.\u001b[39mprint_summary()\n",
      "File \u001b[0;32m/workspaces/prjs/bandgapReferenceCircuit/xschem_testbench.py:16\u001b[0m, in \u001b[0;36mxschem_testbench.__init__\u001b[0;34m(self, name, schematic_path, test_dirpath, result_path)\u001b[0m\n\u001b[1;32m     12\u001b[0m \u001b[39mdef\u001b[39;00m \u001b[39m__init__\u001b[39m(\u001b[39mself\u001b[39m, name: \u001b[39mstr\u001b[39m, schematic_path: Union[Path, \u001b[39mstr\u001b[39m],\n\u001b[1;32m     13\u001b[0m              test_dirpath: Union[Path, \u001b[39mstr\u001b[39m],\n\u001b[1;32m     14\u001b[0m              result_path: optional_path \u001b[39m=\u001b[39m \u001b[39mNone\u001b[39;00m) \u001b[39m-\u001b[39m\u001b[39m>\u001b[39m \u001b[39mNone\u001b[39;00m:\n\u001b[1;32m     15\u001b[0m     \u001b[39mself\u001b[39m\u001b[39m.\u001b[39mname \u001b[39m=\u001b[39m name\n\u001b[0;32m---> 16\u001b[0m     \u001b[39mself\u001b[39;49m\u001b[39m.\u001b[39;49mschematic_path \u001b[39m=\u001b[39m Path(schematic_path)\n\u001b[1;32m     17\u001b[0m     \u001b[39mself\u001b[39m\u001b[39m.\u001b[39mtest_dirpath \u001b[39m=\u001b[39m Path(test_dirpath)\n\u001b[1;32m     18\u001b[0m     \u001b[39mif\u001b[39;00m result_path \u001b[39mis\u001b[39;00m \u001b[39mnot\u001b[39;00m \u001b[39mNone\u001b[39;00m:\n",
      "File \u001b[0;32m/workspaces/prjs/bandgapReferenceCircuit/xschem_testbench.py:89\u001b[0m, in \u001b[0;36mxschem_testbench.schematic_path\u001b[0;34m(self, path)\u001b[0m\n\u001b[1;32m     86\u001b[0m \u001b[39m@schematic_path\u001b[39m\u001b[39m.\u001b[39msetter\n\u001b[1;32m     87\u001b[0m \u001b[39mdef\u001b[39;00m \u001b[39mschematic_path\u001b[39m(\u001b[39mself\u001b[39m,path: Union[Path, \u001b[39mstr\u001b[39m]) \u001b[39m-\u001b[39m\u001b[39m>\u001b[39m \u001b[39mNone\u001b[39;00m:\n\u001b[1;32m     88\u001b[0m      \u001b[39mself\u001b[39m\u001b[39m.\u001b[39m_schematic_path \u001b[39m=\u001b[39m path\n\u001b[0;32m---> 89\u001b[0m      \u001b[39mself\u001b[39;49m\u001b[39m.\u001b[39;49m_check_schematic_path()\n",
      "File \u001b[0;32m/workspaces/prjs/bandgapReferenceCircuit/xschem_testbench.py:79\u001b[0m, in \u001b[0;36mxschem_testbench._check_schematic_path\u001b[0;34m(self)\u001b[0m\n\u001b[1;32m     77\u001b[0m \u001b[39mdef\u001b[39;00m \u001b[39m_check_schematic_path\u001b[39m(\u001b[39mself\u001b[39m) \u001b[39m-\u001b[39m\u001b[39m>\u001b[39m \u001b[39mNone\u001b[39;00m:\n\u001b[1;32m     78\u001b[0m      \u001b[39mif\u001b[39;00m \u001b[39mnot\u001b[39;00m \u001b[39mself\u001b[39m\u001b[39m.\u001b[39m_schematic_path\u001b[39m.\u001b[39mis_file():\n\u001b[0;32m---> 79\u001b[0m         \u001b[39mraise\u001b[39;00m \u001b[39mRuntimeError\u001b[39;00m(\u001b[39mf\u001b[39m\u001b[39m\"\u001b[39m\u001b[39mTestbench schematic does not exist at:\u001b[39m\u001b[39m\\n\u001b[39;00m\u001b[39m\"\u001b[39m\n\u001b[1;32m     80\u001b[0m                            \u001b[39mf\u001b[39m\u001b[39m\"\u001b[39m\u001b[39m  \u001b[39m\u001b[39m{\u001b[39;00m\u001b[39mstr\u001b[39m(\u001b[39mself\u001b[39m\u001b[39m.\u001b[39m_schematic_path)\u001b[39m}\u001b[39;00m\u001b[39m\"\u001b[39m)\n",
      "\u001b[0;31mRuntimeError\u001b[0m: Testbench schematic does not exist at:\n  /workspaces/bandgapReferenceCircuit/bandgap_sky130_v1/bandgap_1v_v01_dcop_testbench.sch"
     ]
    }
   ],
   "source": [
    "\n",
    "test_name = \"dc_op\"\n",
    "test_bench_schematic = \"bandgap_1v_v01_dcop_testbench.sch\"\n",
    "\n",
    "dcop_result = xschem_testbench.run(\n",
    "    name=test_name, \n",
    "    schematic_path=SCHEMATIC_DIR_PATH / test_bench_schematic, \n",
    "    test_path=TESTS_DIR_PATH / test_name,\n",
    "    )"
   ]
  },
  {
   "attachments": {},
   "cell_type": "markdown",
   "metadata": {},
   "source": [
    "## Check DC Op Results"
   ]
  },
  {
   "cell_type": "code",
   "execution_count": null,
   "metadata": {},
   "outputs": [],
   "source": [
    "%%ipytest -qq\n",
    "\n",
    "%load tests/dc_op/test_op_point.py"
   ]
  },
  {
   "attachments": {},
   "cell_type": "markdown",
   "metadata": {},
   "source": [
    "## DC Op Performance\n",
    "Reports the DC operating point performance of the bandgap"
   ]
  },
  {
   "attachments": {},
   "cell_type": "markdown",
   "metadata": {},
   "source": [
    "# Setup Appendix\n",
    "<a id='setup_appendix'></a>"
   ]
  }
 ],
 "metadata": {
  "kernelspec": {
   "display_name": "bandgap",
   "language": "python",
   "name": "python3"
  },
  "language_info": {
   "codemirror_mode": {
    "name": "ipython",
    "version": 3
   },
   "file_extension": ".py",
   "mimetype": "text/x-python",
   "name": "python",
   "nbconvert_exporter": "python",
   "pygments_lexer": "ipython3",
   "version": "3.10.10"
  },
  "orig_nbformat": 4
 },
 "nbformat": 4,
 "nbformat_minor": 2
}
